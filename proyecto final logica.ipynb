{
 "cells": [
  {
   "cell_type": "code",
   "execution_count": null,
   "id": "fadf1af7",
   "metadata": {},
   "outputs": [],
   "source": [
    "from groundedPL.codificacion import ToPropositionalLogic\n",
    "\n",
    "parser = ToPropositionalLogic()\n",
    "parser.debug = True"
   ]
  }
 ],
 "metadata": {
  "language_info": {
   "name": "python"
  }
 },
 "nbformat": 4,
 "nbformat_minor": 5
}
