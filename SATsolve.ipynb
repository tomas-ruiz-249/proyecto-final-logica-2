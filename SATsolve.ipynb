{
 "cells": [
  {
   "cell_type": "code",
   "execution_count": 1,
   "metadata": {},
   "outputs": [],
   "source": [
    "from random import choice\n",
    "from itertools import product, combinations\n",
    "from groundedPL.codificacion import ToPropositionalLogic\n",
    "from groundedPL.logUtils import LogUtils\n",
    "from groundedPL.logic_tester import LogicTester\n",
    "\n",
    "filas = ['fila1', 'fila2', 'fila3']\n",
    "columnas = ['columna1', 'columna2', 'columna3']\n",
    "\n",
    "parser = ToPropositionalLogic()"
   ]
  },
  {
   "cell_type": "code",
   "execution_count": 2,
   "metadata": {},
   "outputs": [],
   "source": [
    "for f, c in product(filas, columnas):\n",
    "    formula = f'CABALLO_EN({f}, {c})'\n",
    "    parser.parse(formula)"
   ]
  },
  {
   "cell_type": "code",
   "execution_count": 3,
   "metadata": {},
   "outputs": [],
   "source": [
    "def regla1():\n",
    "    casillas = [(x,y) for x in range(3) for y in range(3)]\n",
    "    tripletas = list(combinations(casillas, 3))\n",
    "    lista = []\n",
    "    for t in tripletas:\n",
    "        c1, c2, c3 = t\n",
    "        x1, y1 = c1\n",
    "        x2, y2 = c2\n",
    "        x3, y3 = c3\n",
    "        formula_casillas_caballos = f'CABALLO_EN({x1}, {y1}) & CABALLO_EN({x2}, {y2}) & CABALLO_EN({x3}, {y3})'\n",
    "        otras_casillas = [c for c in casillas if c not in t]\n",
    "        lista_negs = [parser.to_nltk(f'-CABALLO_EN({x}, {y})') for x, y in otras_casillas]\n",
    "        formula_no_caballos = LogUtils.Ytoria(lista_negs)\n",
    "        formula_tres_caballos = f'{formula_casillas_caballos} & {formula_no_caballos}'\n",
    "        lista.append(parser.to_nltk(formula_tres_caballos))\n",
    "    return LogUtils.Otoria(lista)\n",
    "\n",
    "regla = regla1()"
   ]
  },
  {
   "cell_type": "code",
   "execution_count": null,
   "metadata": {},
   "outputs": [
    {
     "name": "stdout",
     "output_type": "stream",
     "text": [
      "La fórmula es satisfacible\n",
      "\n",
      "Un modelo es:\n",
      "\n",
      "\t['ă', '-ē', 'ģ', '-ć', '-ė', '-ħ', '-ċ', '-ě', 'ī']\n",
      "\n",
      "El modelo decodificado es:\n",
      "\n",
      "\t['CABALLO_EN(0, 0)', '-CABALLO_EN(0, 1)', 'CABALLO_EN(0, 2)', '-CABALLO_EN(1, 0)', '-CABALLO_EN(1, 1)', '-CABALLO_EN(1, 2)', '-CABALLO_EN(2, 0)', '-CABALLO_EN(2, 1)', 'CABALLO_EN(2, 2)']\n"
     ]
    }
   ],
   "source": [
    "lt = LogicTester()\n",
    "formula_lp = lt.translation_to_prover(regla)\n",
    "res = lt.SATsolve(formula_lp)\n",
    "if res == 'UNSAT':\n",
    "    print('La fórmula es insatisfacible')\n",
    "else:\n",
    "    print('La fórmula es satisfacible')\n",
    "    modelo = [lt.to_numeric.literal(x) for x in res]\n",
    "    modelo = [x for x in modelo if lt.to_numeric.solo_atomo(x) in lt.tseitin.atomos] \n",
    "    print(f'\\nUn modelo es:\\n\\n\\t{modelo}')\n",
    "    modelo = [lt.to_lp.modelo_lp.decodificar(x) for x in modelo]\n",
    "    print(f'\\nEl modelo decodificado es:\\n\\n\\t{modelo}')"
   ]
  },
  {
   "cell_type": "markdown",
   "metadata": {},
   "source": [
    "---"
   ]
  }
 ],
 "metadata": {
  "kernelspec": {
   "display_name": "Python 3",
   "language": "python",
   "name": "python3"
  },
  "language_info": {
   "codemirror_mode": {
    "name": "ipython",
    "version": 3
   },
   "file_extension": ".py",
   "mimetype": "text/x-python",
   "name": "python",
   "nbconvert_exporter": "python",
   "pygments_lexer": "ipython3",
   "version": "3.12.3"
  }
 },
 "nbformat": 4,
 "nbformat_minor": 4
}
